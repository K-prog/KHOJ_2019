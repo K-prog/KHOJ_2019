{
 "cells": [
  {
   "cell_type": "code",
   "execution_count": 1,
   "metadata": {},
   "outputs": [],
   "source": [
    "import csv\n",
    "import os\n",
    "import datetime\n",
    "import time\n",
    "import sys\n",
    "import random"
   ]
  },
  {
   "cell_type": "code",
   "execution_count": 2,
   "metadata": {},
   "outputs": [],
   "source": [
    "from time import gmtime, strftime\n",
    "unixTime= int(time.time())\n",
    "gmtDate = str(strftime(\"%d-%m-%Y\", gmtime()))\n",
    "gmtTime = str(strftime(\"%H:%M:%S\", gmtime()))\n",
    "filename='DumpData.csv'"
   ]
  },
  {
   "cell_type": "code",
   "execution_count": 3,
   "metadata": {},
   "outputs": [],
   "source": [
    "#data_file = os.path.abspath(os.path.join(os.path.dirname('__file__'), 'data/'+filename))\n"
   ]
  },
  {
   "cell_type": "code",
   "execution_count": 4,
   "metadata": {},
   "outputs": [],
   "source": [
    "def makeStringForCSV(x):\n",
    "\tprint('%s <= data' % str(x))\n",
    "\treturn ((str(strftime(\"%d-%m-%Y %H-%M-%S\", gmtime()))),\n",
    "\t\tunixTime,\n",
    "\t\tgmtDate,\n",
    "\t\tgmtTime,\n",
    "\t\tx)"
   ]
  },
  {
   "cell_type": "code",
   "execution_count": 5,
   "metadata": {},
   "outputs": [
    {
     "name": "stdout",
     "output_type": "stream",
     "text": [
      "G:\\workshop\\J&K tutorial\\KHOJ_2019\\Notebooks\\data\\DumpData.csv is opened\n",
      "41 <= data\n"
     ]
    }
   ],
   "source": [
    "# f = open(data_file, 'a+')\n",
    "# filename\n",
    "file_existence_flag=int(os.path.isfile(filename))\n",
    "f = open(filename, 'a+')\n",
    "try:\n",
    "# except IOError as e:\n",
    "#     print(e)\n",
    "    writer = csv.writer(f,lineterminator='\\n')\n",
    "    if file_existence_flag==0:# True\n",
    "        print(data_file + \" is created\")\n",
    "        writer.writerow( ('GMT Time','Unix TimeStamp','Date','Time','DATA'))\n",
    "    else:\n",
    "        print(data_file + \" is opened\")\n",
    "        writer.writerow(makeStringForCSV(random.randint(0,100)))\n",
    "finally:\n",
    "    f.close()"
   ]
  },
  {
   "cell_type": "code",
   "execution_count": null,
   "metadata": {},
   "outputs": [],
   "source": []
  },
  {
   "cell_type": "code",
   "execution_count": null,
   "metadata": {},
   "outputs": [],
   "source": []
  }
 ],
 "metadata": {
  "kernelspec": {
   "display_name": "Python 3",
   "language": "python",
   "name": "python3"
  },
  "language_info": {
   "codemirror_mode": {
    "name": "ipython",
    "version": 3
   },
   "file_extension": ".py",
   "mimetype": "text/x-python",
   "name": "python",
   "nbconvert_exporter": "python",
   "pygments_lexer": "ipython3",
   "version": "3.7.3"
  }
 },
 "nbformat": 4,
 "nbformat_minor": 2
}
