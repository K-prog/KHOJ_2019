{
 "cells": [
  {
   "cell_type": "code",
   "execution_count": 1,
   "metadata": {},
   "outputs": [],
   "source": [
    "import config "
   ]
  },
  {
   "cell_type": "code",
   "execution_count": 2,
   "metadata": {},
   "outputs": [
    {
     "name": "stdout",
     "output_type": "stream",
     "text": [
      "Pot_1               2         \n",
      "Pot_2               3         \n",
      "Pot_3               4         \n",
      "Hall_effect_1       1         \n",
      "Hall_effect_2       0         \n",
      "LDR                 5         \n",
      "Temp_1              6         \n",
      "Temp_2              7         \n",
      "Pir                 2         \n",
      "Sw                  3         \n",
      "Buzzer              5         \n",
      "B_led               6         \n",
      "G_led               9         \n",
      "R_led               10        \n",
      "Ac                  8         \n"
     ]
    }
   ],
   "source": [
    "'''\n",
    "Lets print all the variable for the pinouts on board\n",
    "'''\n",
    "def get_variable_module_name(module_name):\n",
    "    module = globals().get(module_name, None)\n",
    "    variable = {}\n",
    "    if module:\n",
    "        variable = {key: value for key, value in module.__dict__.items() if not (key.startswith('__') or key.startswith('_'))}\n",
    "    return variable\n",
    "\n",
    "variable = get_variable_module_name('config')\n",
    "for key, value in variable.items():\n",
    "    print(\"{:<20}{:<10}\".format(key, value))"
   ]
  },
  {
   "cell_type": "code",
   "execution_count": 3,
   "metadata": {},
   "outputs": [],
   "source": [
    "from phySyncFirmata import ArduinoNano"
   ]
  },
  {
   "cell_type": "code",
   "execution_count": 4,
   "metadata": {},
   "outputs": [],
   "source": [
    "board = ArduinoNano('/dev/ttyUSB0')"
   ]
  },
  {
   "cell_type": "code",
   "execution_count": 5,
   "metadata": {},
   "outputs": [],
   "source": [
    "PIEZO_PIN = board.get_pin('d:5:p')"
   ]
  },
  {
   "cell_type": "code",
   "execution_count": 6,
   "metadata": {},
   "outputs": [],
   "source": [
    "PIEZO_PIN.write(0.2)\n",
    "board.pass_time(0.1)\n",
    "PIEZO_PIN.write(0.6)\n",
    "board.pass_time(0.1)\n",
    "PIEZO_PIN.write(0.8)\n",
    "board.pass_time(0.1)\n",
    "PIEZO_PIN.write(0)"
   ]
  }
 ],
 "metadata": {
  "kernelspec": {
   "display_name": "PhySyncEnv",
   "language": "python",
   "name": "physyncenv"
  },
  "language_info": {
   "codemirror_mode": {
    "name": "ipython",
    "version": 3
   },
   "file_extension": ".py",
   "mimetype": "text/x-python",
   "name": "python",
   "nbconvert_exporter": "python",
   "pygments_lexer": "ipython3",
   "version": "3.7.3"
  }
 },
 "nbformat": 4,
 "nbformat_minor": 2
}
