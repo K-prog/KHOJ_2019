{
 "cells": [
  {
   "cell_type": "markdown",
   "metadata": {},
   "source": [
    "# Manually"
   ]
  },
  {
   "cell_type": "code",
   "execution_count": 4,
   "metadata": {},
   "outputs": [
    {
     "name": "stdout",
     "output_type": "stream",
     "text": [
      "iter_num -  2\n",
      "idx -  0\n",
      "idx -  1\n",
      "iter_num -  1\n",
      "idx -  0\n",
      "[2, 19, 31]\n"
     ]
    }
   ],
   "source": [
    "def sort(list):\n",
    "    # Swap the elements to arrange in order\n",
    "    for iter_num in range(len(list)-1,0,-1):\n",
    "        print(\"iter_num - \",iter_num)\n",
    "        for idx in range(iter_num):\n",
    "            print(\"idx - \",idx)\n",
    "            if list[idx]>list[idx+1]:\n",
    "                temp = list[idx]\n",
    "                list[idx] = list[idx+1]\n",
    "                list[idx+1] = temp\n",
    "\n",
    "\n",
    "list = [19,2,31,1]\n",
    "sort(list)\n",
    "print(list)"
   ]
  },
  {
   "cell_type": "markdown",
   "metadata": {},
   "source": [
    "# Built in Function"
   ]
  },
  {
   "cell_type": "code",
   "execution_count": 2,
   "metadata": {},
   "outputs": [
    {
     "name": "stdout",
     "output_type": "stream",
     "text": [
      "[2, 6, 7, 11, 27, 31, 45, 121]\n"
     ]
    }
   ],
   "source": [
    "list = [7,2,31,45,6,11,121,27]\n",
    "list.sort()\n",
    "print(list)"
   ]
  }
 ],
 "metadata": {
  "kernelspec": {
   "display_name": "Python 3",
   "language": "python",
   "name": "python3"
  },
  "language_info": {
   "codemirror_mode": {
    "name": "ipython",
    "version": 3
   },
   "file_extension": ".py",
   "mimetype": "text/x-python",
   "name": "python",
   "nbconvert_exporter": "python",
   "pygments_lexer": "ipython3",
   "version": "3.7.3"
  }
 },
 "nbformat": 4,
 "nbformat_minor": 2
}
