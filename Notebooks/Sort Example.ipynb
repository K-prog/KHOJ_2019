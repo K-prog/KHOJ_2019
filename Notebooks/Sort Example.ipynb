{
 "cells": [
  {
   "cell_type": "markdown",
   "metadata": {},
   "source": [
    "# Manually"
   ]
  },
  {
   "cell_type": "code",
   "execution_count": 9,
   "metadata": {},
   "outputs": [
    {
     "name": "stdout",
     "output_type": "stream",
     "text": [
      "iter_num -  4\n",
      "idx -  0    temp - 19     List is -  [2, 19, 31, 1, 4]\n",
      "idx -  2    temp - 31     List is -  [2, 19, 1, 31, 4]\n",
      "idx -  3    temp - 31     List is -  [2, 19, 1, 4, 31]\n",
      "iter_num -  3\n",
      "idx -  1    temp - 19     List is -  [2, 1, 19, 4, 31]\n",
      "idx -  2    temp - 19     List is -  [2, 1, 4, 19, 31]\n",
      "iter_num -  2\n",
      "idx -  0    temp - 2     List is -  [1, 2, 4, 19, 31]\n",
      "iter_num -  1\n",
      "[1, 2, 4, 19, 31]\n"
     ]
    }
   ],
   "source": [
    "def sort(list):\n",
    "    # Swap the elements to arrange in order\n",
    "    for iter_num in range(len(list)-1,0,-1):\n",
    "        print(\"iter_num - \",iter_num)\n",
    "        for idx in range(iter_num):\n",
    "            if list[idx]>list[idx+1]:\n",
    "                temp = list[idx]\n",
    "                list[idx] = list[idx+1]\n",
    "                list[idx+1] = temp\n",
    "                print(\"idx - \",idx,\"   temp -\",temp, \"    List is - \", list)\n",
    "\n",
    "\n",
    "list = [19,2,31,1,4]\n",
    "sort(list)\n",
    "print(list)"
   ]
  },
  {
   "cell_type": "markdown",
   "metadata": {},
   "source": [
    "# Built in Function"
   ]
  },
  {
   "cell_type": "code",
   "execution_count": 2,
   "metadata": {},
   "outputs": [
    {
     "name": "stdout",
     "output_type": "stream",
     "text": [
      "[2, 6, 7, 11, 27, 31, 45, 121]\n"
     ]
    }
   ],
   "source": [
    "list = [7,2,31,45,6,11,121,27]\n",
    "list.sort()\n",
    "print(list)"
   ]
  }
 ],
 "metadata": {
  "kernelspec": {
   "display_name": "Python 3",
   "language": "python",
   "name": "python3"
  },
  "language_info": {
   "codemirror_mode": {
    "name": "ipython",
    "version": 3
   },
   "file_extension": ".py",
   "mimetype": "text/x-python",
   "name": "python",
   "nbconvert_exporter": "python",
   "pygments_lexer": "ipython3",
   "version": "3.7.3"
  }
 },
 "nbformat": 4,
 "nbformat_minor": 2
}
